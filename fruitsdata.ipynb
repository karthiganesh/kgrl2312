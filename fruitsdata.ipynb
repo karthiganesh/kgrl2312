{
 "cells": [
  {
   "cell_type": "code",
   "execution_count": null,
   "id": "2b0bb6c8-e35d-40a5-82aa-482b63c68651",
   "metadata": {},
   "outputs": [],
   "source": [
    "!pip install seaborn"
   ]
  },
  {
   "cell_type": "code",
   "execution_count": null,
   "id": "d5d073bb-7e01-45de-b19a-ff6917d3f636",
   "metadata": {},
   "outputs": [],
   "source": [
    "import pandas as pd\n",
    "import numpy as np\n",
    "from sklearn.model_selection import train_test_split\n",
    "from sklearn.svm import SVC\n",
    "from sklearn.metrics import classification_report, confusion_matrix\n",
    "import matplotlib.pyplot as plt\n",
    "%matplotlib inline\n",
    "import seaborn as sns"
   ]
  },
  {
   "cell_type": "code",
   "execution_count": null,
   "id": "72aaa0e5-8f94-45a3-b5e4-897c3e98c787",
   "metadata": {},
   "outputs": [],
   "source": [
    "fruitsdata = pd.read_csv('Fruits data.csv')"
   ]
  },
  {
   "cell_type": "code",
   "execution_count": null,
   "id": "df7b3ce4-51f4-47bc-970b-ac9dc8fb7448",
   "metadata": {},
   "outputs": [],
   "source": [
    "print(fruitsdata)"
   ]
  },
  {
   "cell_type": "code",
   "execution_count": null,
   "id": "d7286ac5-9530-4ae7-b48b-d6697d52b560",
   "metadata": {},
   "outputs": [],
   "source": [
    " #print(fruitsdata)\n",
    "print (fruitsdata['Weight'])"
   ]
  },
  {
   "cell_type": "code",
   "execution_count": null,
   "id": "7f1316d2-955e-4dd8-a8eb-2b66b5a9037b",
   "metadata": {},
   "outputs": [],
   "source": [
    "import numpy as np\n",
    "import matplotlib.pyplot as plt\n",
    "from sklearn import svm, datasets\n",
    "\n",
    "#import some data\n",
    "#fruits = datasets.load_iris()\n",
    "#print(fruits.data)\n",
    "X = fruitsdata[['Weight','Cost']].to_numpy()\n",
    "y = fruitsdata['Category'].to_numpy()\n",
    "print(X)\n",
    "#X=np.array(X).reshape(-1,1)\n",
    "#y = np.array(y).reshape(-1,1)\n",
    "print(y)\n",
    "h = .02  #step size in the mesh\n",
    "\n",
    "C = 1.0 #SVM Regurarization parameter\n",
    "svc = svm.SVC(kernel = 'linear', C = C).fit(X, y)\n",
    "rbf_svc = svm.SVC(kernel = 'rbf', gamma = 0.7, C = 1). fit(X, y)\n",
    "poly_svc = svm.SVC(kernel = 'poly', degree = 3, C = 1). fit(X, y)\n",
    "\n",
    "#create a mesh to plot in \n",
    "x_min, x_max = X[:, 0].min() -1, X[:, 0].max() + 1\n",
    "y_min, y_max = y.min() - 1, y.max() + 1\n",
    "xx, yy = np.meshgrid (np.arange (x_min, x_max, h),\n",
    "                      np.arange(y_min, y_max))\n",
    "#title for the plots\n",
    "titles = ['SVC with linear kernel',\n",
    "          'SVC with RBF kernel',\n",
    "          'SVC with polynomial (degree 3) kernel']\n",
    "\n",
    "for i, clf in enumerate ((svc, rbf_svc, poly_svc)):\n",
    "   plt.figure(figsize = (14, 10))\n",
    "   plt.subplot(2, 2, i+1)\n",
    "   plt.subplots_adjust(wspace = 0.4, hspace= 0.4)\n",
    "\n",
    "   Z = clf.predict(np.c_[xx.ravel(), yy.ravel()])\n",
    "\n",
    "   Z = Z.reshape(xx.shape)\n",
    "   plt.contourf(xx, yy, Z, cmap = plt.cm.coolwarm, alpha = 0.8)\n",
    "   #plot also the traning points\n",
    "   plt.scatter(X[:, 0], X[:, 1], c = y, cmap = plt.cm.coolwarm)\n",
    "   plt.xlabel('Weight of Fruits')\n",
    "   plt.ylabel('Cost of Fruits')\n",
    "   plt.xlim(xx.min(), xx.max())\n",
    "   plt.xticks(())\n",
    "   plt.yticks(())\n",
    "   plt.title(titles[i])\n",
    "plt.show()"
   ]
  },
  {
   "cell_type": "code",
   "execution_count": null,
   "id": "f8316e25-4c76-44cd-bb2c-bd316d94fd4f",
   "metadata": {},
   "outputs": [],
   "source": []
  }
 ],
 "metadata": {
  "kernelspec": {
   "display_name": "Python 3 (ipykernel)",
   "language": "python",
   "name": "python3"
  },
  "language_info": {
   "codemirror_mode": {
    "name": "ipython",
    "version": 3
   },
   "file_extension": ".py",
   "mimetype": "text/x-python",
   "name": "python",
   "nbconvert_exporter": "python",
   "pygments_lexer": "ipython3",
   "version": "3.10.11"
  }
 },
 "nbformat": 4,
 "nbformat_minor": 5
}
